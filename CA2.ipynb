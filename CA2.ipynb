{
 "cells": [
  {
   "cell_type": "code",
   "execution_count": 4,
   "metadata": {},
   "outputs": [],
   "source": [
    "import random\n",
    "import string\n",
    "import numpy as np"
   ]
  },
  {
   "cell_type": "code",
   "execution_count": 12,
   "metadata": {},
   "outputs": [],
   "source": [
    "class Rule:\n",
    "    \n",
    "    def __init__(self,number=None):\n",
    "        self.number = int(input(\"pick a rule: \")) #object is created from the rule chosen\n",
    "        self.BinNumber = str(\"{0:b}\".format(self.number)).zfill(8) #number of the rule given in binary\n",
    "        self.AuxList = []\n",
    "        \n",
    "    def alg(self,triad): #method to establish the evolution defined by the number of the rule chosen\n",
    "        if triad == [0,0,0]:\n",
    "            result = self.BinNumber[0]\n",
    "            \n",
    "        if triad == [0,0,1]:\n",
    "            result = self.BinNumber[1]\n",
    "\n",
    "        if triad == [0,1,0]:\n",
    "            result = self.BinNumber[2]\n",
    "            \n",
    "        if triad == [0,1,1]:\n",
    "            result = self.BinNumber[3]\n",
    "\n",
    "        if triad == [1,0,0]:\n",
    "            result = self.BinNumber[4]\n",
    "            \n",
    "        if triad == [1,0,1]:\n",
    "            result = self.BinNumber[5]\n",
    "\n",
    "        if triad == [1,1,0]:\n",
    "            result = self.BinNumber[6]\n",
    "            \n",
    "        if triad == [1,1,1]:\n",
    "            result = self.BinNumber[7]\n",
    "            \n",
    "        return result\n",
    "            \n",
    "    def Apply(self,list1): #method to implement the evolution on list1\n",
    "        NewList=[0,0,0,0,0,0,0,0]\n",
    "\n",
    "        begin=[0,0,0] #auxiliar list to make cyclic condition\n",
    "        begin[0]=list1[7]\n",
    "        begin[1]=list1[0]\n",
    "        begin[2]=list1[1]\n",
    "        \n",
    "        end=[0,0,0] #auxiliar list to make cyclic condition\n",
    "        end[0]=list1[6]\n",
    "        end[1]=list1[7]\n",
    "        end[2]=list1[0]\n",
    "        \n",
    "        NewList[0] = int(self.alg(begin)) #cyclic condition\n",
    "        NewList[1] = int(self.alg(list1[0:3]))\n",
    "        NewList[2] = int(self.alg(list1[1:4]))\n",
    "        NewList[3] = int(self.alg(list1[2:5]))\n",
    "        NewList[4] = int(self.alg(list1[3:6]))\n",
    "        NewList[5] = int(self.alg(list1[4:7]))\n",
    "        NewList[6] = int(self.alg(list1[5:8]))\n",
    "        NewList[7] = int(self.alg(end)) #cyclic condition\n",
    "        self.AuxList = NewList\n",
    "        \n",
    "        "
   ]
  },
  {
   "cell_type": "code",
   "execution_count": 13,
   "metadata": {},
   "outputs": [],
   "source": [
    "def main():\n",
    "    iterations = int(input(\"how many iterations? \"))\n",
    "    R1=Rule() #takes rule from user, makes it binary and makes the algorithm \n",
    "    \n",
    "    MyList=[0,0,0,0,0,0,0,0] #generates random str\n",
    "    for i in range(8):\n",
    "        MyList[i-1]=int(','.join(random.choices(\"01\")))\n",
    "    print(MyList)\n",
    "    \n",
    "\n",
    "    for i in range(iterations): #loops of successive iterations\n",
    "        R1.Apply(MyList) #single iteration\n",
    "        MyList = R1.AuxList #updates my list\n",
    "        print(MyList)\n",
    "    "
   ]
  },
  {
   "cell_type": "code",
   "execution_count": 14,
   "metadata": {},
   "outputs": [
    {
     "name": "stdout",
     "output_type": "stream",
     "text": [
      "how many iterations? 3\n",
      "pick a rule: 45\n",
      "[0, 1, 1, 1, 0, 0, 0, 1]\n",
      "[1, 0, 1, 0, 1, 0, 0, 1]\n",
      "[0, 1, 1, 1, 1, 1, 0, 0]\n",
      "[0, 0, 1, 1, 1, 0, 1, 0]\n"
     ]
    }
   ],
   "source": [
    "main()"
   ]
  },
  {
   "cell_type": "code",
   "execution_count": null,
   "metadata": {},
   "outputs": [],
   "source": []
  }
 ],
 "metadata": {
  "kernelspec": {
   "display_name": "Python 3",
   "language": "python",
   "name": "python3"
  },
  "language_info": {
   "codemirror_mode": {
    "name": "ipython",
    "version": 3
   },
   "file_extension": ".py",
   "mimetype": "text/x-python",
   "name": "python",
   "nbconvert_exporter": "python",
   "pygments_lexer": "ipython3",
   "version": "3.7.3"
  }
 },
 "nbformat": 4,
 "nbformat_minor": 2
}
